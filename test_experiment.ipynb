{
 "cells": [
  {
   "cell_type": "markdown",
   "metadata": {},
   "source": [
    "# __Automation experiment__"
   ]
  },
  {
   "cell_type": "code",
   "execution_count": null,
   "metadata": {},
   "outputs": [],
   "source": [
    "from kubernetes import client, config\n",
    "from kubernetes.client.rest import ApiException\n",
    "import yaml\n",
    "import boto3"
   ]
  },
  {
   "cell_type": "markdown",
   "metadata": {},
   "source": [
    "# __Amazon EKS: node group management__"
   ]
  },
  {
   "cell_type": "markdown",
   "metadata": {},
   "source": [
    "### connect to eks client"
   ]
  },
  {
   "cell_type": "code",
   "execution_count": null,
   "metadata": {},
   "outputs": [],
   "source": [
    "def connect_eks_client(aws_region):\n",
    "    return boto3.client('eks', region_name=aws_region)"
   ]
  },
  {
   "cell_type": "markdown",
   "metadata": {},
   "source": [
    "### set variables for eks"
   ]
  },
  {
   "cell_type": "code",
   "execution_count": null,
   "metadata": {},
   "outputs": [],
   "source": [
    "class EKS_variable:\n",
    "    def __init__(self):\n",
    "        self.aws_region = 'us-east-1'\n",
    "        self.cluster_name = 'cluster-tanimura'\n",
    "        self.nodegroup_name = 'test_nodegroup'\n",
    "        self.subnets = ['subnet-00db610ac559c4a1a', 'subnet-0b90c6fe07ca5621e']\n",
    "        self.instance_types = 't3.medium'\n",
    "        self.ami_type = 'AL2_x86_64'\n",
    "        self.ssh_key_name = 'ec2-key-dong'\n",
    "        self.node_role_arn = 'arn:aws:iam::972269765820:role/AmazonEKSNodeRole'\n",
    "        self.min_size = 2\n",
    "        self.max_size = 2\n",
    "        self.desired_size = 2\n",
    "        self.disk_size = 20"
   ]
  },
  {
   "cell_type": "markdown",
   "metadata": {},
   "source": [
    "### create node group"
   ]
  },
  {
   "cell_type": "code",
   "execution_count": null,
   "metadata": {},
   "outputs": [],
   "source": [
    "def create_set_nodegroup(eks_client, var):\n",
    "    response = eks_client.create_nodegroup(\n",
    "        clusterName=var.cluster_name,\n",
    "        nodegroupName=var.nodegroup_name,\n",
    "        scalingConfig={\n",
    "            'minSize': var.min_size,\n",
    "            'maxSize': var.max_size,\n",
    "            'desiredSize': var.desired_size\n",
    "        },\n",
    "        diskSize=var.disk_size,\n",
    "        subnets=var.subnets,\n",
    "        instanceTypes=var.instance_types,\n",
    "        amiType=var.ami_type,\n",
    "        remoteAccess={\n",
    "            'ec2SshKey': var.ssh_key_name\n",
    "        },\n",
    "        nodeRole=var.node_role_arn\n",
    "    )\n",
    "\n",
    "    return response"
   ]
  },
  {
   "cell_type": "code",
   "execution_count": null,
   "metadata": {},
   "outputs": [],
   "source": [
    "def create_nodegroup():\n",
    "    eks_var = EKS_variable()\n",
    "\n",
    "    # connect to eks client\n",
    "    eks_client = connect_eks_client(eks_var.aws_region)\n",
    "\n",
    "    # create Nodegroup\n",
    "    response = create_set_nodegroup(eks_client, eks_var)\n",
    "\n",
    "    return response"
   ]
  },
  {
   "cell_type": "markdown",
   "metadata": {},
   "source": [
    "### delete node group"
   ]
  },
  {
   "cell_type": "code",
   "execution_count": null,
   "metadata": {},
   "outputs": [],
   "source": [
    "def delete_set_nodegroup(eks_client, var):\n",
    "    response = eks_client.delete_nodegroup(\n",
    "        clusterName=var.cluster_name,\n",
    "        nodegroupName=var.nodegroup_name\n",
    "    )\n",
    "\n",
    "    return response"
   ]
  },
  {
   "cell_type": "code",
   "execution_count": null,
   "metadata": {},
   "outputs": [],
   "source": [
    "def delete_nodegroup():\n",
    "    eks_var = EKS_variable()\n",
    "\n",
    "    # connect to eks client\n",
    "    eks_client = connect_eks_client(eks_var.aws_region)\n",
    "\n",
    "    # delete Nodegroup\n",
    "    response = delete_set_nodegroup(eks_client, eks_var)\n",
    "\n",
    "    return response"
   ]
  },
  {
   "cell_type": "markdown",
   "metadata": {},
   "source": [
    "# __MQTT broker and clients__"
   ]
  },
  {
   "cell_type": "markdown",
   "metadata": {},
   "source": [
    "### detailed error messages"
   ]
  },
  {
   "cell_type": "code",
   "execution_count": null,
   "metadata": {},
   "outputs": [],
   "source": [
    "def api_exception(exception):\n",
    "    # output detailed error messages for ApiException\n",
    "    print(f\"Exception: {exception}\")\n",
    "    print(f\"Status code: {exception.status}\")\n",
    "    print(f\"Response body: {exception.body}\")\n",
    "    print(f\"Reason: {exception.reason}\")\n",
    "    print(f\"Headers: {exception.headers}\")"
   ]
  },
  {
   "cell_type": "markdown",
   "metadata": {},
   "source": [
    "### set variables for MQTT"
   ]
  },
  {
   "cell_type": "code",
   "execution_count": null,
   "metadata": {},
   "outputs": [],
   "source": [
    "class MQTT_variable:\n",
    "    def __init__(self):\n",
    "        self.relay_broker = 'broker_secrets.yaml'\n",
    "        self.receiving_broker = ''\n",
    "        self.publisher = 'publisher_template.yaml'\n",
    "        self.subscriber = ''\n",
    "        self.subpub = ''\n",
    "        self.namespace = 'default'\n",
    "        self.replicas = 10\n",
    "        self.req_size = '102372'\n",
    "        self.exp_time = '0.1'\n"
   ]
  },
  {
   "cell_type": "markdown",
   "metadata": {},
   "source": [
    "# MQTT broker"
   ]
  },
  {
   "cell_type": "markdown",
   "metadata": {},
   "source": [
    "### create relay brokers "
   ]
  },
  {
   "cell_type": "code",
   "execution_count": null,
   "metadata": {},
   "outputs": [],
   "source": [
    "def create_relay_broker():\n",
    "    var = MQTT_variable()\n",
    "    try:\n",
    "        # load kubeconfig\n",
    "        config.load_kube_config()\n",
    "        # create client\n",
    "        apps_v1_api = client.AppsV1Api()\n",
    "\n",
    "        with open(var.relay_broker) as f:\n",
    "            daemonset_manifest = yaml.safe_load(f)\n",
    "\n",
    "        broker_namespace = var.namespace\n",
    "        # create DaemonSet\n",
    "        apps_v1_api.create_namespaced_daemon_set(namespace=broker_namespace, body=daemonset_manifest)\n",
    "    except ApiException as e:\n",
    "        # output detailed error messages\n",
    "        api_exception(e)\n",
    "        return []"
   ]
  },
  {
   "cell_type": "markdown",
   "metadata": {},
   "source": [
    "### Get broker name"
   ]
  },
  {
   "cell_type": "code",
   "execution_count": null,
   "metadata": {},
   "outputs": [],
   "source": [
    "def get_broker_names(var):\n",
    "    try:\n",
    "        # load kubeconfig\n",
    "        config.load_kube_config()\n",
    "        # create client\n",
    "        v1_core_api = client.CoreV1Api()\n",
    "\n",
    "        broker_namespace = var.namespace\n",
    "        # get pod list\n",
    "        pods_list = v1_core_api.list_namespaced_pod(broker_namespace, watch=False)\n",
    "        # get pod name\n",
    "        broker_names = [pod.metadata.name for pod in pods_list.items]\n",
    "        \n",
    "        return broker_names\n",
    "    except ApiException as e:\n",
    "        api_exception(e)\n",
    "        return []"
   ]
  },
  {
   "cell_type": "markdown",
   "metadata": {},
   "source": [
    "### Get pod's ip address"
   ]
  },
  {
   "cell_type": "code",
   "execution_count": null,
   "metadata": {},
   "outputs": [],
   "source": [
    "def get_pod_ip(pod_name, var):\n",
    "    try:\n",
    "        # load kubeconfig\n",
    "        config.load_kube_config()\n",
    "        # create client\n",
    "        v1_core_api = client.CoreV1Api()\n",
    "\n",
    "        broker_namespace = var.namespace\n",
    "        # get pod's ip\n",
    "        pod = v1_core_api.read_namespaced_pod(pod_name, broker_namespace)\n",
    "        pod_ip = pod.status.pod_ip\n",
    "\n",
    "        return pod_ip\n",
    "    except ApiException as e:\n",
    "        api_exception(e)\n",
    "        return None"
   ]
  },
  {
   "cell_type": "markdown",
   "metadata": {},
   "source": [
    "### Get pod's node name"
   ]
  },
  {
   "cell_type": "code",
   "execution_count": null,
   "metadata": {},
   "outputs": [],
   "source": [
    "def get_pod_nodename(pod_name, var):\n",
    "    try:\n",
    "        # load kubeconfig\n",
    "        config.load_kube_config()\n",
    "        # create client\n",
    "        v1_core_api = client.CoreV1Api()\n",
    "\n",
    "        broker_namespace = var.namespace\n",
    "        # get pod's node name\n",
    "        pod = v1_core_api.read_namespaced_pod(pod_name, broker_namespace)\n",
    "        pod_nodename = pod.spec.node_name\n",
    "\n",
    "        return pod_nodename\n",
    "    except ApiException as e:\n",
    "        api_exception(e)\n",
    "        return None"
   ]
  },
  {
   "cell_type": "markdown",
   "metadata": {},
   "source": [
    "### Save pod's ip and node name"
   ]
  },
  {
   "cell_type": "code",
   "execution_count": null,
   "metadata": {},
   "outputs": [],
   "source": [
    "def save_info_to_dict(broker_names):\n",
    "    var = MQTT_variable()\n",
    "    pod_ip_dict = {}\n",
    "    pod_nodename_dict = {}\n",
    "\n",
    "    for name in broker_names:\n",
    "        ip = get_pod_ip(name, var)\n",
    "        nodename = get_pod_nodename(name, var)\n",
    "        \n",
    "        if ip and nodename:\n",
    "            pod_ip_dict[name] = ip\n",
    "            pod_nodename_dict[name] = nodename\n",
    "\n",
    "    return pod_ip_dict, pod_nodename_dict"
   ]
  },
  {
   "cell_type": "markdown",
   "metadata": {},
   "source": [
    "# MQTT clients"
   ]
  },
  {
   "cell_type": "markdown",
   "metadata": {},
   "source": [
    "### Load client template"
   ]
  },
  {
   "cell_type": "code",
   "execution_count": null,
   "metadata": {},
   "outputs": [],
   "source": [
    "def load_template(yaml_file):\n",
    "    with open(yaml_file, 'r') as file:\n",
    "        template_content = file.read()\n",
    "        return yaml.safe_load(template_content)"
   ]
  },
  {
   "cell_type": "markdown",
   "metadata": {},
   "source": [
    "### Change the noda name and broker ip for publisher to create it on each broker's node"
   ]
  },
  {
   "cell_type": "code",
   "execution_count": null,
   "metadata": {},
   "outputs": [],
   "source": [
    "def publisher_deployment(nodename, broker_ip):\n",
    "    try:\n",
    "        # load kubeconfig\n",
    "        config.load_kube_config()\n",
    "        # create client\n",
    "        apps_v1_api = client.AppsV1Api()\n",
    "\n",
    "        template = load_template()\n",
    "        # change node name and broker ip\n",
    "        template.spec.template.spec.node_name = nodename\n",
    "        template.spec.template.spec.containers[0].env[0].value = broker_ip\n",
    "\n",
    "        namespace = \"default\"\n",
    "        # create Deployment\n",
    "        apps_v1_api.create_namespaced_deployment(namespace, body=template)\n",
    "    except ApiException as e:\n",
    "        api_exception(e)"
   ]
  }
 ],
 "metadata": {
  "kernelspec": {
   "display_name": "Python 3",
   "language": "python",
   "name": "python3"
  },
  "language_info": {
   "name": "python",
   "version": "3.10.13"
  }
 },
 "nbformat": 4,
 "nbformat_minor": 2
}
